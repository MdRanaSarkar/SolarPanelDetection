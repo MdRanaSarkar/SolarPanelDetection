{
 "cells": [
  {
   "cell_type": "code",
   "execution_count": 1,
   "id": "72644197",
   "metadata": {},
   "outputs": [],
   "source": [
    "import os\n",
    "import math\n",
    "import sys\n",
    "import cv2\n",
    "import numpy as np\n",
    "import pandas as pd\n",
    "import tensorflow as tf\n",
    "import matplotlib.pyplot as plt\n",
    "from tensorflow.keras.optimizers import RMSprop\n",
    "from tensorflow.keras.preprocessing import image\n",
    "from tensorflow.keras.preprocessing.image import ImageDataGenerator"
   ]
  },
  {
   "cell_type": "code",
   "execution_count": 7,
   "id": "95cc2bd0",
   "metadata": {},
   "outputs": [],
   "source": [
    "import pandas as pd\n",
    "from shutil import copy2\n",
    "import os\n",
    "\n",
    "train_labels = pd.read_csv(\"labels_training.csv\")\n",
    "\n",
    "train_count = 0\n",
    "test_count = 0\n",
    "for i in range(len(train_labels)):\n",
    "    if train_labels.iloc[i,1] == 1:\n",
    "        file = str(i)+\".tif\"\n",
    "        source = os.getcwd()+\"/training/\"+file\n",
    "        if train_count < 456 :\n",
    "            target = os.getcwd()+\"/training/solar\"\n",
    "        else :\n",
    "            target = os.getcwd()+\"/validation/solar\"\n",
    "        copy2(source,target)\n",
    "        train_count +=1\n",
    "    else:\n",
    "        file = str(i)+\".tif\"\n",
    "        source = os.getcwd()+\"/Training/\"+file\n",
    "        if test_count < 946:\n",
    "            target = os.getcwd()+\"/training/non-solar\"\n",
    "        else:\n",
    "            target = os.getcwd()+\"/validation/non-solar\"\n",
    "        copy2(source,target)\n",
    "        test_count +=1\n",
    "        "
   ]
  },
  {
   "cell_type": "code",
   "execution_count": 8,
   "id": "b5859890",
   "metadata": {},
   "outputs": [],
   "source": [
    "# Set the directories for the data and the CSV files that contain ids/labels\n",
    "dir_train_images  = 'training'\n",
    "dir_test_images   = 'testing'\n",
    "dir_train_labels  = 'labels_training.csv'"
   ]
  },
  {
   "cell_type": "code",
   "execution_count": 9,
   "id": "c330e1df",
   "metadata": {},
   "outputs": [],
   "source": [
    "# from kyle's code load data\n",
    "def load_data(dir_data, dir_labels, training=True):\n",
    "    ''' Load each of the image files into memory \n",
    "\n",
    "    While this is feasible with a smaller dataset, for larger datasets,\n",
    "    not all the images would be able to be loaded into memory\n",
    "\n",
    "    When training=True, the labels are also loaded\n",
    "    '''\n",
    "    labels_pd = pd.read_csv(dir_labels)\n",
    "    ids       = labels_pd.id.values\n",
    "    data      = []\n",
    "    for identifier in ids:\n",
    "        fname     = dir_data +\"//\"+ identifier.astype(str) + '.jpg'\n",
    "        image     = mpl.image.imread(fname)\n",
    "        data.append(image)\n",
    "    data = np.array(data) # Convert to Numpy array\n",
    "    if training:\n",
    "        labels = labels_pd.label.values\n",
    "        return data, labels\n",
    "    else:\n",
    "        return data, ids\n",
    "    "
   ]
  },
  {
   "cell_type": "code",
   "execution_count": null,
   "id": "ea4030ee",
   "metadata": {},
   "outputs": [],
   "source": []
  }
 ],
 "metadata": {
  "kernelspec": {
   "display_name": "Python 3",
   "language": "python",
   "name": "python3"
  },
  "language_info": {
   "codemirror_mode": {
    "name": "ipython",
    "version": 3
   },
   "file_extension": ".py",
   "mimetype": "text/x-python",
   "name": "python",
   "nbconvert_exporter": "python",
   "pygments_lexer": "ipython3",
   "version": "3.8.8"
  }
 },
 "nbformat": 4,
 "nbformat_minor": 5
}
