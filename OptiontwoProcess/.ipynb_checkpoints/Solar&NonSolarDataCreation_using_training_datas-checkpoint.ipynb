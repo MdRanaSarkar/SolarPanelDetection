{
 "cells": [
  {
   "cell_type": "code",
   "execution_count": 1,
   "id": "73c5cae0",
   "metadata": {},
   "outputs": [],
   "source": [
    "import os\n",
    "import math\n",
    "import sys\n",
    "import cv2\n",
    "import numpy as np\n",
    "import pandas as pd\n",
    "import tensorflow as tf\n",
    "import matplotlib.pyplot as plt\n",
    "from tensorflow.keras.optimizers import RMSprop\n",
    "from tensorflow.keras.preprocessing import image\n",
    "from tensorflow.keras.preprocessing.image import ImageDataGenerator"
   ]
  },
  {
   "cell_type": "code",
   "execution_count": 4,
   "id": "99eeae8a",
   "metadata": {},
   "outputs": [
    {
     "name": "stdout",
     "output_type": "stream",
     "text": [
      "Found 0 images belonging to 0 classes.\n"
     ]
    }
   ],
   "source": [
    "import pandas as pd\n",
    "from shutil import copy2\n",
    "import os\n",
    "\n",
    "train_labels = pd.read_csv(\"labels_training.csv\")\n",
    "\n",
    "train_count = 0\n",
    "test_count = 0\n",
    "for i in range(len(train_labels)):\n",
    "    if train_labels.iloc[i,1] == 1:\n",
    "        file = str(i)+\".tif\"\n",
    "        source = os.getcwd()+\"/Data/training/\"+file\n",
    "        if train_count < 456 :\n",
    "            target = os.getcwd()+\"/dataset/training/solar\"\n",
    "        else :\n",
    "            target = os.getcwd()+\"/dataset/validation/solar\"\n",
    "        copy2(source,target)\n",
    "        train_count +=1\n",
    "    else:\n",
    "        file = str(i)+\".tif\"\n",
    "        source = os.getcwd()+\"/Data/Training/\"+file\n",
    "        if test_count < 946:\n",
    "            target = os.getcwd()+\"/dataset/training/non-solar\"\n",
    "        else:\n",
    "            target = os.getcwd()+\"/dataset/validation/non-solar\"\n",
    "        copy2(source,target)\n",
    "        test_count +=1\n",
    "        "
   ]
  },
  {
   "cell_type": "code",
   "execution_count": null,
   "id": "b7a4042c",
   "metadata": {},
   "outputs": [],
   "source": []
  },
  {
   "cell_type": "code",
   "execution_count": null,
   "id": "e513a839",
   "metadata": {},
   "outputs": [],
   "source": [
    "import pandas as pd\n",
    "from shutil import copy2\n",
    "import os\n",
    "\n",
    "train_labels = pd.read_csv(\"Data/labels_training.csv\")\n",
    "\n",
    "train_count = 0\n",
    "test_count = 0\n",
    "for i in range(len(train_labels)):\n",
    "    if train_labels.iloc[i,1] == 1:\n",
    "        file = str(i)+\".tif\"\n",
    "        source = os.getcwd()+\"/Data/training/\"+file\n",
    "        if train_count < 456 :\n",
    "            target = os.getcwd()+\"/dataset/training/solar\"\n",
    "        else :\n",
    "            target = os.getcwd()+\"/dataset/validation/solar\"\n",
    "        copy2(source,target)\n",
    "        train_count +=1\n",
    "    else:\n",
    "        file = str(i)+\".tif\"\n",
    "        source = os.getcwd()+\"/Data/Training/\"+file\n",
    "        if test_count < 946:\n",
    "            target = os.getcwd()+\"/dataset/training/non-solar\"\n",
    "        else:\n",
    "            target = os.getcwd()+\"/dataset/validation/non-solar\"\n",
    "        copy2(source,target)\n",
    "        test_count +=1\n",
    "        "
   ]
  }
 ],
 "metadata": {
  "kernelspec": {
   "display_name": "Python 3",
   "language": "python",
   "name": "python3"
  },
  "language_info": {
   "codemirror_mode": {
    "name": "ipython",
    "version": 3
   },
   "file_extension": ".py",
   "mimetype": "text/x-python",
   "name": "python",
   "nbconvert_exporter": "python",
   "pygments_lexer": "ipython3",
   "version": "3.8.8"
  }
 },
 "nbformat": 4,
 "nbformat_minor": 5
}
